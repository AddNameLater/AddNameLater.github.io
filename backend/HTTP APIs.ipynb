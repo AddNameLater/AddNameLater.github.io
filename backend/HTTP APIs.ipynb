{
 "cells": [
  {
   "cell_type": "markdown",
   "metadata": {},
   "source": [
    "Opens server"
   ]
  },
  {
   "cell_type": "code",
   "execution_count": 1,
   "metadata": {},
   "outputs": [
    {
     "name": "stdout",
     "output_type": "stream",
     "text": [
      " * Serving Flask app '__main__'\n",
      " * Debug mode: off\n"
     ]
    },
    {
     "name": "stderr",
     "output_type": "stream",
     "text": [
      "WARNING: This is a development server. Do not use it in a production deployment. Use a production WSGI server instead.\n",
      " * Running on all addresses (0.0.0.0)\n",
      " * Running on http://127.0.0.1:5001\n",
      " * Running on http://10.18.227.192:5001\n",
      "Press CTRL+C to quit\n",
      "127.0.0.1 - - [16/Oct/2022 17:37:48] \"GET /sockjs-node/082/1marfful/websocket HTTP/1.1\" 404 -\n",
      "127.0.0.1 - - [16/Oct/2022 17:38:06] \"GET /sockjs-node/656/fnjxybcm/websocket HTTP/1.1\" 404 -\n",
      "127.0.0.1 - - [16/Oct/2022 17:38:11] \"GET /sockjs-node/160/myf13reu/websocket HTTP/1.1\" 404 -\n",
      "127.0.0.1 - - [16/Oct/2022 17:38:13] \"GET /sockjs-node/265/t3g3t5y2/websocket HTTP/1.1\" 404 -\n",
      "127.0.0.1 - - [16/Oct/2022 17:38:16] \"GET /sockjs-node/705/i0d2fzn3/websocket HTTP/1.1\" 404 -\n",
      "127.0.0.1 - - [16/Oct/2022 17:38:20] \"GET /sockjs-node/130/ui21v0mh/websocket HTTP/1.1\" 404 -\n",
      "127.0.0.1 - - [16/Oct/2022 17:38:22] \"GET /sockjs-node/498/ewifzup4/websocket HTTP/1.1\" 404 -\n",
      "127.0.0.1 - - [16/Oct/2022 17:38:24] \"GET /sockjs-node/766/oqcux0nl/websocket HTTP/1.1\" 404 -\n",
      "127.0.0.1 - - [16/Oct/2022 17:38:45] \"GET /dashboard HTTP/1.1\" 200 -\n",
      "127.0.0.1 - - [16/Oct/2022 17:39:26] \"GET /sockjs-node/758/5egy11im/websocket HTTP/1.1\" 404 -\n",
      "127.0.0.1 - - [16/Oct/2022 17:39:30] \"GET /sockjs-node/978/wohaokyr/websocket HTTP/1.1\" 404 -\n",
      "127.0.0.1 - - [16/Oct/2022 17:41:42] \"GET /sockjs-node/491/uknps3sc/websocket HTTP/1.1\" 404 -\n",
      "127.0.0.1 - - [16/Oct/2022 17:41:45] \"GET /sockjs-node/781/yrwgkven/websocket HTTP/1.1\" 404 -\n",
      "127.0.0.1 - - [16/Oct/2022 17:41:46] \"GET /sockjs-node/151/11mftat0/websocket HTTP/1.1\" 404 -\n",
      "127.0.0.1 - - [16/Oct/2022 17:42:02] \"GET /sockjs-node/965/hkutve3u/websocket HTTP/1.1\" 404 -\n",
      "127.0.0.1 - - [16/Oct/2022 17:42:03] \"GET /sockjs-node/946/zkslvxeu/websocket HTTP/1.1\" 404 -\n",
      "127.0.0.1 - - [16/Oct/2022 17:42:03] \"GET /sockjs-node/072/w254fhvh/websocket HTTP/1.1\" 404 -\n",
      "127.0.0.1 - - [16/Oct/2022 17:42:13] \"GET /sockjs-node/441/bugpsssa/websocket HTTP/1.1\" 404 -\n",
      "127.0.0.1 - - [16/Oct/2022 17:42:13] \"GET /sockjs-node/342/nuwgpe00/websocket HTTP/1.1\" 404 -\n",
      "127.0.0.1 - - [16/Oct/2022 17:42:28] \"GET /sockjs-node/947/hoeyjbnm/websocket HTTP/1.1\" 404 -\n",
      "127.0.0.1 - - [16/Oct/2022 17:42:37] \"GET /sockjs-node/680/czenhind/websocket HTTP/1.1\" 404 -\n",
      "127.0.0.1 - - [16/Oct/2022 17:42:39] \"GET /sockjs-node/930/wer3fw5w/websocket HTTP/1.1\" 404 -\n",
      "127.0.0.1 - - [16/Oct/2022 17:42:39] \"GET /sockjs-node/153/1gcgcwxp/websocket HTTP/1.1\" 404 -\n",
      "127.0.0.1 - - [16/Oct/2022 17:46:04] \"GET /sockjs-node/091/uukx45ft/websocket HTTP/1.1\" 404 -\n",
      "127.0.0.1 - - [16/Oct/2022 17:58:59] \"GET /sockjs-node/838/ac2zjqge/websocket HTTP/1.1\" 404 -\n",
      "127.0.0.1 - - [16/Oct/2022 17:59:15] \"GET /sockjs-node/658/lnodzkzs/websocket HTTP/1.1\" 404 -\n",
      "127.0.0.1 - - [16/Oct/2022 17:59:26] \"GET /sockjs-node/322/dbrpub42/websocket HTTP/1.1\" 404 -\n",
      "127.0.0.1 - - [16/Oct/2022 18:07:20] \"GET /sockjs-node/492/mbagan43/websocket HTTP/1.1\" 404 -\n",
      "127.0.0.1 - - [16/Oct/2022 18:11:17] \"GET /sockjs-node/013/buxr1ufj/websocket HTTP/1.1\" 404 -\n",
      "127.0.0.1 - - [16/Oct/2022 18:11:38] \"GET /sockjs-node/220/ap4cbvud/websocket HTTP/1.1\" 404 -\n"
     ]
    }
   ],
   "source": [
    "from flask import Flask, render_template, request\n",
    "\n",
    "app = Flask(__name__)\n",
    "\n",
    "@app.route('/')\n",
    "def homePage():\n",
    "    if request.method == \"GET\":\n",
    "        return render_template('../frontend/templates/index.html')\n",
    "    elif request.method == \"POST\":\n",
    "        return \"test\"\n",
    "\n",
    "@app.route('/login')\n",
    "def login():\n",
    "    if request.method == \"GET\":\n",
    "        return \"This is the login page\"\n",
    "    elif request.method == \"POST\":\n",
    "        return \"test\"\n",
    "\n",
    "@app.route('/dashboard')\n",
    "def dashboard():\n",
    "    if request.method == \"GET\":\n",
    "        return \"This is the dashboard\"\n",
    "    elif request.method == \"POST\":\n",
    "        return \"test\"\n",
    "\n",
    "@app.route(\"/editprofile\")\n",
    "def editProfile():\n",
    "    if request.method == \"GET\":\n",
    "        return \"This is the edit profile page\"\n",
    "    elif request.method == \"POST\":\n",
    "        return \"test\"\n",
    "\n",
    "@app.route(\"/tracker\")\n",
    "def tracker():\n",
    "    if request.method == \"GET\":\n",
    "        return \"This is the tracker page\"\n",
    "    elif request.method == \"POST\":\n",
    "        return \"test\"\n",
    "\n",
    "@app.route(\"/tracker/search\")\n",
    "def search():\n",
    "    if request.method == \"GET\":\n",
    "        return \"This is the search page\"\n",
    "    elif request.method == \"POST\":\n",
    "        return \"test\"\n",
    "\n",
    "@app.route(\"/notepad\")\n",
    "def notepad():\n",
    "    if request.method == \"GET\":\n",
    "        return \"This is the notepade page\"\n",
    "    elif request.method == \"POST\":\n",
    "        return \"test\"\n",
    "\n",
    "app.run(host='0.0.0.0', port=5001)"
   ]
  },
  {
   "cell_type": "markdown",
   "metadata": {},
   "source": [
    "Kills Server to reopen port"
   ]
  },
  {
   "cell_type": "code",
   "execution_count": null,
   "metadata": {},
   "outputs": [
    {
     "ename": "",
     "evalue": "",
     "output_type": "error",
     "traceback": [
      "\u001b[1;31mCanceled future for execute_request message before replies were done"
     ]
    },
    {
     "ename": "",
     "evalue": "",
     "output_type": "error",
     "traceback": [
      "The Kernel crashed while executing code in the the current cell or a previous cell. Please review the code in the cell(s) to identify a possible cause of the failure. Click <a href='https://aka.ms/vscodeJupyterKernelCrash'>here</a> for more info. View Jupyter <a href='command:jupyter.viewOutput'>log</a> for further details."
     ]
    }
   ],
   "source": [
    "import os\n",
    "import signal\n",
    "\n",
    "sig = getattr(signal, \"SIGKILL\", signal.SIGTERM)\n",
    "os.kill(os.getpid(), sig)"
   ]
  }
 ],
 "metadata": {
  "kernelspec": {
   "display_name": "Python 3.8.10 64-bit",
   "language": "python",
   "name": "python3"
  },
  "language_info": {
   "codemirror_mode": {
    "name": "ipython",
    "version": 3
   },
   "file_extension": ".py",
   "mimetype": "text/x-python",
   "name": "python",
   "nbconvert_exporter": "python",
   "pygments_lexer": "ipython3",
   "version": "3.8.10"
  },
  "orig_nbformat": 4,
  "vscode": {
   "interpreter": {
    "hash": "aee8b7b246df8f9039afb4144a1f6fd8d2ca17a180786b69acc140d282b71a49"
   }
  }
 },
 "nbformat": 4,
 "nbformat_minor": 2
}

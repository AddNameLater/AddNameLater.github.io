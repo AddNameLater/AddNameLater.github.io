{
 "cells": [
  {
   "cell_type": "code",
   "execution_count": null,
   "metadata": {},
   "outputs": [],
   "source": [
    "class UserNotepad:\n",
    "    def __init__(noteID):\n",
    "        self.noteID = noteID\n",
    "        notePadContent = ''\n",
    "\n",
    "    def getUserID(self):\n",
    "        return self.userID\n",
    "\n",
    "    def getNotePadContent(self):\n",
    "        return self.notePadContent\n",
    "\n",
    "    def setNoteID(self, noteID):\n",
    "        self.noteID = noteID"
   ]
  }
 ],
 "metadata": {
  "kernelspec": {
   "display_name": "Python 3.10.5 64-bit",
   "language": "python",
   "name": "python3"
  },
  "language_info": {
   "name": "python",
   "version": "3.10.5"
  },
  "orig_nbformat": 4,
  "vscode": {
   "interpreter": {
    "hash": "7e1998ff7f8aa20ada591c520b972326324e5ea05489af9e422744c7c09f6dad"
   }
  }
 },
 "nbformat": 4,
 "nbformat_minor": 2
}

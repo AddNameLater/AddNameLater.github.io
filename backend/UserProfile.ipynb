{
 "cells": [
  {
   "cell_type": "markdown",
   "metadata": {},
   "source": [
    "User Profile Object where all data of user is stored and basic functions"
   ]
  },
  {
   "cell_type": "code",
   "execution_count": 1,
   "metadata": {},
   "outputs": [],
   "source": [
    "class UserProfile:\n",
    "\n",
    "    foodList = []\n",
    "\n",
    "    def __init__(self, userName, password, accountNum):\n",
    "        self.userName = userName\n",
    "        self.password = password\n",
    "        self.accountNum = accountNum\n",
    "\n",
    "    def setHeight(self, height):\n",
    "        self.height = height\n",
    "    \n",
    "    def setAge(self, age):\n",
    "        self.age = age\n",
    "\n",
    "    def setSex(self, isMale):\n",
    "        self.isMale = isMale\n",
    "\n",
    "    def setWeight(self, weight):\n",
    "        self.weight = weight\n",
    "\n",
    "    def setNotePadID(self, noteID):\n",
    "        self.noteID = noteID\n",
    "\n",
    "    def getNotePadID(self):\n",
    "        return self.noteID\n",
    "    \n",
    "    def setExerciseLevel(self, exerciseLevel):\n",
    "        self.exerciseLevel = exerciseLevel\n",
    "\n",
    "    def displayUserName(self):\n",
    "        print(self.userName)\n"
   ]
  },
  {
   "cell_type": "markdown",
   "metadata": {},
   "source": [
    "Testing Case"
   ]
  },
  {
   "cell_type": "code",
   "execution_count": 4,
   "metadata": {},
   "outputs": [
    {
     "name": "stdout",
     "output_type": "stream",
     "text": [
      "Billy\n"
     ]
    }
   ],
   "source": [
    "testUser = UserProfile(\"Billy\", \"1234\", \"000001\")\n",
    "testUser.setHeight([5,9])\n",
    "testUser.displayUserName()"
   ]
  }
 ],
 "metadata": {
  "kernelspec": {
   "display_name": "Python 3.8.10 64-bit",
   "language": "python",
   "name": "python3"
  },
  "language_info": {
   "codemirror_mode": {
    "name": "ipython",
    "version": 3
   },
   "file_extension": ".py",
   "mimetype": "text/x-python",
   "name": "python",
   "nbconvert_exporter": "python",
   "pygments_lexer": "ipython3",
   "version": "3.8.10"
  },
  "orig_nbformat": 4,
  "vscode": {
   "interpreter": {
    "hash": "aee8b7b246df8f9039afb4144a1f6fd8d2ca17a180786b69acc140d282b71a49"
   }
  }
 },
 "nbformat": 4,
 "nbformat_minor": 2
}
